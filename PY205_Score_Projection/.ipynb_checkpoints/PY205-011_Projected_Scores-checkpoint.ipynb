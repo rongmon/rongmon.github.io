{
 "cells": [
  {
   "cell_type": "markdown",
   "metadata": {},
   "source": []
  },
  {
   "cell_type": "code",
   "execution_count": null,
   "metadata": {},
   "outputs": [],
   "source": [
    "from __future__ import print_function\n",
    "from ipywidgets import interact, interactive, fixed, interact_manual\n",
    "import ipywidgets as widgets\n",
    "import project_score as p\n",
    "interact(p.project_score,MT1=widgets.IntSlider(min=0, max=100, step=1, value=100),\n",
    "         MT2=widgets.IntSlider(min=0, max=100, step=1, value=100),\n",
    "         MT3=widgets.IntSlider(min=0, max=100, step=1, value=100),\n",
    "         Final=widgets.IntSlider(min=0, max=100, step=1, value=100),\n",
    "         HW=widgets.IntSlider(min=0, max=100, step=1, value=100),\n",
    "         EC=widgets.IntSlider(min=0, max=100, step=1, value=100),\n",
    "         PSS=widgets.IntSlider(min=0, max=100, step=1, value=100),\n",
    "         Participation=widgets.IntSlider(min=0, max=100, step=1, value=100),\n",
    "         attendance=widgets.IntSlider(min=0, max=100, step=1, value=100));\n"
   ]
  }
 ],
 "metadata": {
  "kernelspec": {
   "display_name": "Python 3",
   "language": "python",
   "name": "python3"
  },
  "language_info": {
   "codemirror_mode": {
    "name": "ipython",
    "version": 3
   },
   "file_extension": ".py",
   "mimetype": "text/x-python",
   "name": "python",
   "nbconvert_exporter": "python",
   "pygments_lexer": "ipython3",
   "version": "3.7.5"
  }
 },
 "nbformat": 4,
 "nbformat_minor": 4
}
