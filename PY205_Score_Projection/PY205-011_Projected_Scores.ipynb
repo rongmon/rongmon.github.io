{
 "cells": [
  {
   "cell_type": "markdown",
   "metadata": {},
   "source": [
    "# This notebook allows you to see projection of final scores for PY205\n",
    "# Press the run button twice and use the sliders to chose the desired grades\n",
    "# The projected final grades are displayed below"
   ]
  },
  {
   "cell_type": "code",
   "execution_count": 4,
   "metadata": {},
   "outputs": [
    {
     "data": {
      "application/vnd.jupyter.widget-view+json": {
       "model_id": "9e951f299d9248118771b94e60b0f9f4",
       "version_major": 2,
       "version_minor": 0
      },
      "text/plain": [
       "interactive(children=(IntSlider(value=100, description='MT1'), IntSlider(value=100, description='MT2'), IntSli…"
      ]
     },
     "metadata": {},
     "output_type": "display_data"
    }
   ],
   "source": [
    "from __future__ import print_function\n",
    "from ipywidgets import interact, interactive, fixed, interact_manual\n",
    "import ipywidgets as widgets\n",
    "import project_score as p\n",
    "interact(p.project_score,MT1=widgets.IntSlider(min=0, max=100, step=1, value=100),\n",
    "         MT2=widgets.IntSlider(min=0, max=100, step=1, value=100),\n",
    "         MT3=widgets.IntSlider(min=0, max=100, step=1, value=100),\n",
    "         Final=widgets.IntSlider(min=0, max=100, step=1, value=100),\n",
    "         HW=widgets.IntSlider(min=0, max=100, step=1, value=100),\n",
    "         EC=widgets.IntSlider(min=0, max=100, step=1, value=100),\n",
    "         PSS=widgets.IntSlider(min=0, max=100, step=1, value=100),\n",
    "         Participation=widgets.IntSlider(min=0, max=100, step=1, value=100),\n",
    "         attendance=widgets.IntSlider(min=0, max=100, step=1, value=100));\n"
   ]
  },
  {
   "cell_type": "code",
   "execution_count": null,
   "metadata": {},
   "outputs": [],
   "source": []
  }
 ],
 "metadata": {
  "kernelspec": {
   "display_name": "Python 3",
   "language": "python",
   "name": "python3"
  },
  "language_info": {
   "codemirror_mode": {
    "name": "ipython",
    "version": 3
   },
   "file_extension": ".py",
   "mimetype": "text/x-python",
   "name": "python",
   "nbconvert_exporter": "python",
   "pygments_lexer": "ipython3",
   "version": "3.7.5"
  }
 },
 "nbformat": 4,
 "nbformat_minor": 4
}
